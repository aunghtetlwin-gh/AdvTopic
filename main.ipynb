{
 "cells": [
  {
   "cell_type": "code",
   "execution_count": 1,
   "metadata": {},
   "outputs": [
    {
     "ename": "ModuleNotFoundError",
     "evalue": "No module named 'scapy'",
     "output_type": "error",
     "traceback": [
      "\u001b[31m---------------------------------------------------------------------------\u001b[39m",
      "\u001b[31mModuleNotFoundError\u001b[39m                       Traceback (most recent call last)",
      "\u001b[36mCell\u001b[39m\u001b[36m \u001b[39m\u001b[32mIn[1]\u001b[39m\u001b[32m, line 2\u001b[39m\n\u001b[32m      1\u001b[39m \u001b[38;5;66;03m#!/usr/bin/env python3\u001b[39;00m\n\u001b[32m----> \u001b[39m\u001b[32m2\u001b[39m \u001b[38;5;28;01mfrom\u001b[39;00m\u001b[38;5;250m \u001b[39m\u001b[34;01mscapy\u001b[39;00m\u001b[34;01m.\u001b[39;00m\u001b[34;01mall\u001b[39;00m\u001b[38;5;250m \u001b[39m\u001b[38;5;28;01mimport\u001b[39;00m sniff, Dot11, IP\n\u001b[32m      4\u001b[39m \u001b[38;5;28;01mdef\u001b[39;00m\u001b[38;5;250m \u001b[39m\u001b[34mpacket_handler\u001b[39m(packet):\n\u001b[32m      5\u001b[39m     \u001b[38;5;66;03m# Check if the packet contains an 802.11 (Wi-Fi) frame\u001b[39;00m\n\u001b[32m      6\u001b[39m     \u001b[38;5;28;01mif\u001b[39;00m packet.haslayer(Dot11):\n",
      "\u001b[31mModuleNotFoundError\u001b[39m: No module named 'scapy'"
     ]
    }
   ],
   "source": [
    "#!/usr/bin/env python3\n",
    "from scapy.all import sniff, Dot11, IP\n",
    "\n",
    "def packet_handler(packet):\n",
    "    # Check if the packet contains an 802.11 (Wi-Fi) frame\n",
    "    if packet.haslayer(Dot11):\n",
    "        dot11 = packet.getlayer(Dot11)\n",
    "        # Extract source, destination and type from the Dot11 layer\n",
    "        src_mac = dot11.addr2  # Transmitter address\n",
    "        dst_mac = dot11.addr1  # Receiver address\n",
    "        frame_type = dot11.type\n",
    "        print(\"---- Wi-Fi (802.11) Frame ----\")\n",
    "        print(f\"Source MAC: {src_mac}\")\n",
    "        print(f\"Destination MAC: {dst_mac}\")\n",
    "        print(f\"Frame Type: {frame_type}\")\n",
    "        \n",
    "        # Check if the packet has an IP layer embedded (typical for data frames)\n",
    "        if packet.haslayer(IP):\n",
    "            ip_layer = packet.getlayer(IP)\n",
    "            print(\"---- Network (IP) Layer ----\")\n",
    "            print(f\"Source IP: {ip_layer.src}\")\n",
    "            print(f\"Destination IP: {ip_layer.dst}\")\n",
    "        print(\"------------------------------\\n\")\n",
    "\n",
    "# Replace 'wlan0mon' with your wireless interface in monitor mode.\n",
    "print(\"Starting packet capture on wlan0mon...\")\n",
    "sniff(iface=\"Intel(R) Dual Band Wireless-AC 8260\", prn=packet_handler, store=False)"
   ]
  },
  {
   "cell_type": "code",
   "execution_count": 3,
   "metadata": {},
   "outputs": [
    {
     "ename": "ModuleNotFoundError",
     "evalue": "No module named 'scapy'",
     "output_type": "error",
     "traceback": [
      "\u001b[31m---------------------------------------------------------------------------\u001b[39m",
      "\u001b[31mModuleNotFoundError\u001b[39m                       Traceback (most recent call last)",
      "\u001b[36mCell\u001b[39m\u001b[36m \u001b[39m\u001b[32mIn[3]\u001b[39m\u001b[32m, line 1\u001b[39m\n\u001b[32m----> \u001b[39m\u001b[32m1\u001b[39m \u001b[38;5;28;01mimport\u001b[39;00m\u001b[38;5;250m \u001b[39m\u001b[34;01mscapy\u001b[39;00m\n\u001b[32m      2\u001b[39m scapy.show.interface()\n",
      "\u001b[31mModuleNotFoundError\u001b[39m: No module named 'scapy'"
     ]
    }
   ],
   "source": [
    "import scapy\n",
    "scapy.show.interface()"
   ]
  }
 ],
 "metadata": {
  "kernelspec": {
   "display_name": "AdvTopic",
   "language": "python",
   "name": "python3"
  },
  "language_info": {
   "codemirror_mode": {
    "name": "ipython",
    "version": 3
   },
   "file_extension": ".py",
   "mimetype": "text/x-python",
   "name": "python",
   "nbconvert_exporter": "python",
   "pygments_lexer": "ipython3",
   "version": "3.12.3"
  }
 },
 "nbformat": 4,
 "nbformat_minor": 2
}
